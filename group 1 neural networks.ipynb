{
 "cells": [
  {
   "cell_type": "code",
   "execution_count": null,
   "metadata": {
    "id": "F37_zRSsKUcF"
   },
   "outputs": [],
   "source": [
    "import pandas as pd\n",
    "import numpy as np\n",
    "from sklearn.model_selection import train_test_split\n",
    "from tensorflow.keras.models import Sequential\n",
    "from tensorflow.keras.layers import Dense, BatchNormalization, Dropout\n",
    "from tensorflow.keras.utils import to_categorical\n",
    "from sklearn.metrics import classification_report,confusion_matrix\n",
    "from tensorflow.keras.callbacks import EarlyStopping\n",
    "from imblearn.combine import SMOTETomek"
   ]
  },
  {
   "cell_type": "code",
   "execution_count": null,
   "metadata": {
    "colab": {
     "base_uri": "https://localhost:8080/",
     "height": 243
    },
    "id": "5MRmSGW9Ka-w",
    "outputId": "1a613d26-750a-4be7-f1fc-91225c9f7488"
   },
   "outputs": [
    {
     "data": {
      "text/html": [
       "<div>\n",
       "<style scoped>\n",
       "    .dataframe tbody tr th:only-of-type {\n",
       "        vertical-align: middle;\n",
       "    }\n",
       "\n",
       "    .dataframe tbody tr th {\n",
       "        vertical-align: top;\n",
       "    }\n",
       "\n",
       "    .dataframe thead th {\n",
       "        text-align: right;\n",
       "    }\n",
       "</style>\n",
       "<table border=\"1\" class=\"dataframe\">\n",
       "  <thead>\n",
       "    <tr style=\"text-align: right;\">\n",
       "      <th></th>\n",
       "      <th>default</th>\n",
       "      <th>housing</th>\n",
       "      <th>loan</th>\n",
       "      <th>y</th>\n",
       "      <th>loan*housing</th>\n",
       "      <th>default*housing</th>\n",
       "      <th>age&gt;60*balance&lt;0</th>\n",
       "      <th>age_group_30-60</th>\n",
       "      <th>age_group_&lt;30</th>\n",
       "      <th>age_group_&gt;60</th>\n",
       "      <th>job_admin.</th>\n",
       "      <th>job_blue-collar</th>\n",
       "      <th>job_entrepreneur</th>\n",
       "      <th>job_housemaid</th>\n",
       "      <th>job_management</th>\n",
       "      <th>job_retired</th>\n",
       "      <th>job_self-employed</th>\n",
       "      <th>job_services</th>\n",
       "      <th>job_student</th>\n",
       "      <th>job_technician</th>\n",
       "      <th>job_unemployed</th>\n",
       "      <th>job_unknown</th>\n",
       "      <th>marital_divorced</th>\n",
       "      <th>marital_married</th>\n",
       "      <th>marital_single</th>\n",
       "      <th>education_primary</th>\n",
       "      <th>education_secondary</th>\n",
       "      <th>education_tertiary</th>\n",
       "      <th>education_unknown</th>\n",
       "      <th>balance_group_0-1000</th>\n",
       "      <th>balance_group_1000-2500</th>\n",
       "      <th>balance_group_2500+</th>\n",
       "      <th>balance_group_&lt;0</th>\n",
       "      <th>contact_cellular</th>\n",
       "      <th>contact_telephone</th>\n",
       "      <th>contact_unknown</th>\n",
       "      <th>month_apr</th>\n",
       "      <th>month_aug</th>\n",
       "      <th>month_dec</th>\n",
       "      <th>month_feb</th>\n",
       "      <th>month_jan</th>\n",
       "      <th>month_jul</th>\n",
       "      <th>month_jun</th>\n",
       "      <th>month_mar</th>\n",
       "      <th>month_may</th>\n",
       "      <th>month_nov</th>\n",
       "      <th>month_oct</th>\n",
       "      <th>month_sep</th>\n",
       "      <th>campaign_group_1</th>\n",
       "      <th>campaign_group_2-3</th>\n",
       "      <th>campaign_group_4-7</th>\n",
       "      <th>campaign_group_7+</th>\n",
       "      <th>pdays_group_0</th>\n",
       "      <th>pdays_group_1</th>\n",
       "      <th>pdays_group_2</th>\n",
       "      <th>pdays_group_3</th>\n",
       "      <th>pdays_group_4</th>\n",
       "      <th>previous_group_0</th>\n",
       "      <th>previous_group_1</th>\n",
       "      <th>poutcome_failure</th>\n",
       "      <th>poutcome_other</th>\n",
       "      <th>poutcome_success</th>\n",
       "      <th>poutcome_unknown</th>\n",
       "    </tr>\n",
       "  </thead>\n",
       "  <tbody>\n",
       "    <tr>\n",
       "      <th>0</th>\n",
       "      <td>0</td>\n",
       "      <td>1</td>\n",
       "      <td>0</td>\n",
       "      <td>0</td>\n",
       "      <td>0</td>\n",
       "      <td>0</td>\n",
       "      <td>0</td>\n",
       "      <td>1</td>\n",
       "      <td>0</td>\n",
       "      <td>0</td>\n",
       "      <td>0</td>\n",
       "      <td>0</td>\n",
       "      <td>0</td>\n",
       "      <td>0</td>\n",
       "      <td>1</td>\n",
       "      <td>0</td>\n",
       "      <td>0</td>\n",
       "      <td>0</td>\n",
       "      <td>0</td>\n",
       "      <td>0</td>\n",
       "      <td>0</td>\n",
       "      <td>0</td>\n",
       "      <td>0</td>\n",
       "      <td>1</td>\n",
       "      <td>0</td>\n",
       "      <td>0</td>\n",
       "      <td>0</td>\n",
       "      <td>1</td>\n",
       "      <td>0</td>\n",
       "      <td>0</td>\n",
       "      <td>1</td>\n",
       "      <td>0</td>\n",
       "      <td>0</td>\n",
       "      <td>0</td>\n",
       "      <td>0</td>\n",
       "      <td>1</td>\n",
       "      <td>0</td>\n",
       "      <td>0</td>\n",
       "      <td>0</td>\n",
       "      <td>0</td>\n",
       "      <td>0</td>\n",
       "      <td>0</td>\n",
       "      <td>0</td>\n",
       "      <td>0</td>\n",
       "      <td>1</td>\n",
       "      <td>0</td>\n",
       "      <td>0</td>\n",
       "      <td>0</td>\n",
       "      <td>1</td>\n",
       "      <td>0</td>\n",
       "      <td>0</td>\n",
       "      <td>0</td>\n",
       "      <td>0</td>\n",
       "      <td>0</td>\n",
       "      <td>0</td>\n",
       "      <td>0</td>\n",
       "      <td>1</td>\n",
       "      <td>1</td>\n",
       "      <td>0</td>\n",
       "      <td>0</td>\n",
       "      <td>0</td>\n",
       "      <td>0</td>\n",
       "      <td>1</td>\n",
       "    </tr>\n",
       "    <tr>\n",
       "      <th>1</th>\n",
       "      <td>0</td>\n",
       "      <td>1</td>\n",
       "      <td>0</td>\n",
       "      <td>0</td>\n",
       "      <td>0</td>\n",
       "      <td>0</td>\n",
       "      <td>0</td>\n",
       "      <td>1</td>\n",
       "      <td>0</td>\n",
       "      <td>0</td>\n",
       "      <td>0</td>\n",
       "      <td>0</td>\n",
       "      <td>0</td>\n",
       "      <td>0</td>\n",
       "      <td>0</td>\n",
       "      <td>0</td>\n",
       "      <td>0</td>\n",
       "      <td>0</td>\n",
       "      <td>0</td>\n",
       "      <td>1</td>\n",
       "      <td>0</td>\n",
       "      <td>0</td>\n",
       "      <td>0</td>\n",
       "      <td>0</td>\n",
       "      <td>1</td>\n",
       "      <td>0</td>\n",
       "      <td>1</td>\n",
       "      <td>0</td>\n",
       "      <td>0</td>\n",
       "      <td>1</td>\n",
       "      <td>0</td>\n",
       "      <td>0</td>\n",
       "      <td>0</td>\n",
       "      <td>0</td>\n",
       "      <td>0</td>\n",
       "      <td>1</td>\n",
       "      <td>0</td>\n",
       "      <td>0</td>\n",
       "      <td>0</td>\n",
       "      <td>0</td>\n",
       "      <td>0</td>\n",
       "      <td>0</td>\n",
       "      <td>0</td>\n",
       "      <td>0</td>\n",
       "      <td>1</td>\n",
       "      <td>0</td>\n",
       "      <td>0</td>\n",
       "      <td>0</td>\n",
       "      <td>1</td>\n",
       "      <td>0</td>\n",
       "      <td>0</td>\n",
       "      <td>0</td>\n",
       "      <td>0</td>\n",
       "      <td>0</td>\n",
       "      <td>0</td>\n",
       "      <td>0</td>\n",
       "      <td>1</td>\n",
       "      <td>1</td>\n",
       "      <td>0</td>\n",
       "      <td>0</td>\n",
       "      <td>0</td>\n",
       "      <td>0</td>\n",
       "      <td>1</td>\n",
       "    </tr>\n",
       "    <tr>\n",
       "      <th>2</th>\n",
       "      <td>0</td>\n",
       "      <td>1</td>\n",
       "      <td>1</td>\n",
       "      <td>0</td>\n",
       "      <td>1</td>\n",
       "      <td>0</td>\n",
       "      <td>0</td>\n",
       "      <td>1</td>\n",
       "      <td>0</td>\n",
       "      <td>0</td>\n",
       "      <td>0</td>\n",
       "      <td>0</td>\n",
       "      <td>1</td>\n",
       "      <td>0</td>\n",
       "      <td>0</td>\n",
       "      <td>0</td>\n",
       "      <td>0</td>\n",
       "      <td>0</td>\n",
       "      <td>0</td>\n",
       "      <td>0</td>\n",
       "      <td>0</td>\n",
       "      <td>0</td>\n",
       "      <td>0</td>\n",
       "      <td>1</td>\n",
       "      <td>0</td>\n",
       "      <td>0</td>\n",
       "      <td>1</td>\n",
       "      <td>0</td>\n",
       "      <td>0</td>\n",
       "      <td>1</td>\n",
       "      <td>0</td>\n",
       "      <td>0</td>\n",
       "      <td>0</td>\n",
       "      <td>0</td>\n",
       "      <td>0</td>\n",
       "      <td>1</td>\n",
       "      <td>0</td>\n",
       "      <td>0</td>\n",
       "      <td>0</td>\n",
       "      <td>0</td>\n",
       "      <td>0</td>\n",
       "      <td>0</td>\n",
       "      <td>0</td>\n",
       "      <td>0</td>\n",
       "      <td>1</td>\n",
       "      <td>0</td>\n",
       "      <td>0</td>\n",
       "      <td>0</td>\n",
       "      <td>1</td>\n",
       "      <td>0</td>\n",
       "      <td>0</td>\n",
       "      <td>0</td>\n",
       "      <td>0</td>\n",
       "      <td>0</td>\n",
       "      <td>0</td>\n",
       "      <td>0</td>\n",
       "      <td>1</td>\n",
       "      <td>1</td>\n",
       "      <td>0</td>\n",
       "      <td>0</td>\n",
       "      <td>0</td>\n",
       "      <td>0</td>\n",
       "      <td>1</td>\n",
       "    </tr>\n",
       "    <tr>\n",
       "      <th>3</th>\n",
       "      <td>0</td>\n",
       "      <td>1</td>\n",
       "      <td>0</td>\n",
       "      <td>0</td>\n",
       "      <td>0</td>\n",
       "      <td>0</td>\n",
       "      <td>0</td>\n",
       "      <td>1</td>\n",
       "      <td>0</td>\n",
       "      <td>0</td>\n",
       "      <td>0</td>\n",
       "      <td>1</td>\n",
       "      <td>0</td>\n",
       "      <td>0</td>\n",
       "      <td>0</td>\n",
       "      <td>0</td>\n",
       "      <td>0</td>\n",
       "      <td>0</td>\n",
       "      <td>0</td>\n",
       "      <td>0</td>\n",
       "      <td>0</td>\n",
       "      <td>0</td>\n",
       "      <td>0</td>\n",
       "      <td>1</td>\n",
       "      <td>0</td>\n",
       "      <td>0</td>\n",
       "      <td>0</td>\n",
       "      <td>0</td>\n",
       "      <td>1</td>\n",
       "      <td>0</td>\n",
       "      <td>1</td>\n",
       "      <td>0</td>\n",
       "      <td>0</td>\n",
       "      <td>0</td>\n",
       "      <td>0</td>\n",
       "      <td>1</td>\n",
       "      <td>0</td>\n",
       "      <td>0</td>\n",
       "      <td>0</td>\n",
       "      <td>0</td>\n",
       "      <td>0</td>\n",
       "      <td>0</td>\n",
       "      <td>0</td>\n",
       "      <td>0</td>\n",
       "      <td>1</td>\n",
       "      <td>0</td>\n",
       "      <td>0</td>\n",
       "      <td>0</td>\n",
       "      <td>1</td>\n",
       "      <td>0</td>\n",
       "      <td>0</td>\n",
       "      <td>0</td>\n",
       "      <td>0</td>\n",
       "      <td>0</td>\n",
       "      <td>0</td>\n",
       "      <td>0</td>\n",
       "      <td>1</td>\n",
       "      <td>1</td>\n",
       "      <td>0</td>\n",
       "      <td>0</td>\n",
       "      <td>0</td>\n",
       "      <td>0</td>\n",
       "      <td>1</td>\n",
       "    </tr>\n",
       "    <tr>\n",
       "      <th>4</th>\n",
       "      <td>0</td>\n",
       "      <td>0</td>\n",
       "      <td>0</td>\n",
       "      <td>0</td>\n",
       "      <td>0</td>\n",
       "      <td>0</td>\n",
       "      <td>0</td>\n",
       "      <td>1</td>\n",
       "      <td>0</td>\n",
       "      <td>0</td>\n",
       "      <td>0</td>\n",
       "      <td>0</td>\n",
       "      <td>0</td>\n",
       "      <td>0</td>\n",
       "      <td>0</td>\n",
       "      <td>0</td>\n",
       "      <td>0</td>\n",
       "      <td>0</td>\n",
       "      <td>0</td>\n",
       "      <td>0</td>\n",
       "      <td>0</td>\n",
       "      <td>1</td>\n",
       "      <td>0</td>\n",
       "      <td>0</td>\n",
       "      <td>1</td>\n",
       "      <td>0</td>\n",
       "      <td>0</td>\n",
       "      <td>0</td>\n",
       "      <td>1</td>\n",
       "      <td>1</td>\n",
       "      <td>0</td>\n",
       "      <td>0</td>\n",
       "      <td>0</td>\n",
       "      <td>0</td>\n",
       "      <td>0</td>\n",
       "      <td>1</td>\n",
       "      <td>0</td>\n",
       "      <td>0</td>\n",
       "      <td>0</td>\n",
       "      <td>0</td>\n",
       "      <td>0</td>\n",
       "      <td>0</td>\n",
       "      <td>0</td>\n",
       "      <td>0</td>\n",
       "      <td>1</td>\n",
       "      <td>0</td>\n",
       "      <td>0</td>\n",
       "      <td>0</td>\n",
       "      <td>1</td>\n",
       "      <td>0</td>\n",
       "      <td>0</td>\n",
       "      <td>0</td>\n",
       "      <td>0</td>\n",
       "      <td>0</td>\n",
       "      <td>0</td>\n",
       "      <td>0</td>\n",
       "      <td>1</td>\n",
       "      <td>1</td>\n",
       "      <td>0</td>\n",
       "      <td>0</td>\n",
       "      <td>0</td>\n",
       "      <td>0</td>\n",
       "      <td>1</td>\n",
       "    </tr>\n",
       "  </tbody>\n",
       "</table>\n",
       "</div>"
      ],
      "text/plain": [
       "   default  housing  loan  ...  poutcome_other  poutcome_success  poutcome_unknown\n",
       "0        0        1     0  ...               0                 0                 1\n",
       "1        0        1     0  ...               0                 0                 1\n",
       "2        0        1     1  ...               0                 0                 1\n",
       "3        0        1     0  ...               0                 0                 1\n",
       "4        0        0     0  ...               0                 0                 1\n",
       "\n",
       "[5 rows x 63 columns]"
      ]
     },
     "execution_count": 5,
     "metadata": {
      "tags": []
     },
     "output_type": "execute_result"
    }
   ],
   "source": [
    "df = pd.read_csv('Data.csv', sep = \";\")\n",
    "df = df.drop(df.columns[0],axis=1)\n",
    "\n",
    "df.head()"
   ]
  },
  {
   "cell_type": "code",
   "execution_count": null,
   "metadata": {
    "id": "wU4UNNR5KdVO"
   },
   "outputs": [],
   "source": [
    "X = df.loc[:, df.columns != 'y']\n",
    "\n",
    "y = df['y']"
   ]
  },
  {
   "cell_type": "code",
   "execution_count": null,
   "metadata": {
    "id": "-kSqigI2K7n0"
   },
   "outputs": [],
   "source": [
    "#Train Test Split\n",
    "X_train, X_test, y_train, y_test = train_test_split(X, y, test_size = 0.2, \n",
    "                                                    random_state = 101)\n"
   ]
  },
  {
   "cell_type": "markdown",
   "metadata": {
    "id": "KPxQpBoitoap"
   },
   "source": [
    "**Creating different Xtrain and ytrain using SMOTE to address the class imbalance problem**"
   ]
  },
  {
   "cell_type": "code",
   "execution_count": null,
   "metadata": {
    "colab": {
     "base_uri": "https://localhost:8080/"
    },
    "id": "Gbn5FR3VsyVy",
    "outputId": "f213d0c1-bdb8-469e-94e9-06fa0e069b23"
   },
   "outputs": [
    {
     "name": "stderr",
     "output_type": "stream",
     "text": [
      "/usr/local/lib/python3.7/dist-packages/sklearn/utils/deprecation.py:87: FutureWarning: Function safe_indexing is deprecated; safe_indexing is deprecated in version 0.22 and will be removed in version 0.24.\n",
      "  warnings.warn(msg, category=FutureWarning)\n",
      "/usr/local/lib/python3.7/dist-packages/sklearn/utils/deprecation.py:87: FutureWarning: Function safe_indexing is deprecated; safe_indexing is deprecated in version 0.22 and will be removed in version 0.24.\n",
      "  warnings.warn(msg, category=FutureWarning)\n"
     ]
    }
   ],
   "source": [
    "\n",
    "smote=SMOTETomek(random_state=42)\n",
    "X_train1,y_train1= smote.fit_resample(X_train,y_train)"
   ]
  },
  {
   "cell_type": "markdown",
   "metadata": {
    "id": "Xxx7hHCNt6r3"
   },
   "source": [
    "**Running the neural network model without addressing the class imbalance problem**"
   ]
  },
  {
   "cell_type": "code",
   "execution_count": null,
   "metadata": {
    "colab": {
     "base_uri": "https://localhost:8080/"
    },
    "id": "58RAN7p7Km1b",
    "outputId": "40ca129e-b85d-426c-ea06-4f6f5fb8d754"
   },
   "outputs": [
    {
     "name": "stdout",
     "output_type": "stream",
     "text": [
      "Model: \"sequential\"\n",
      "_________________________________________________________________\n",
      "Layer (type)                 Output Shape              Param #   \n",
      "=================================================================\n",
      "dense (Dense)                (None, 128)               8064      \n",
      "_________________________________________________________________\n",
      "dropout (Dropout)            (None, 128)               0         \n",
      "_________________________________________________________________\n",
      "dense_1 (Dense)              (None, 64)                8256      \n",
      "_________________________________________________________________\n",
      "dropout_1 (Dropout)          (None, 64)                0         \n",
      "_________________________________________________________________\n",
      "dense_2 (Dense)              (None, 32)                2080      \n",
      "_________________________________________________________________\n",
      "dropout_2 (Dropout)          (None, 32)                0         \n",
      "_________________________________________________________________\n",
      "dense_3 (Dense)              (None, 16)                528       \n",
      "_________________________________________________________________\n",
      "dropout_3 (Dropout)          (None, 16)                0         \n",
      "_________________________________________________________________\n",
      "dense_4 (Dense)              (None, 2)                 34        \n",
      "=================================================================\n",
      "Total params: 18,962\n",
      "Trainable params: 18,962\n",
      "Non-trainable params: 0\n",
      "_________________________________________________________________\n"
     ]
    }
   ],
   "source": [
    "model = Sequential([\n",
    "    Dense(128, activation = 'relu', input_shape = [62, ]),\n",
    "    Dropout(0.2),\n",
    "    Dense(64, activation = 'relu'),\n",
    "    Dropout(0.2),\n",
    "    Dense(32, activation = 'relu'),\n",
    "    Dropout(0.2), \n",
    "    Dense(16, activation = 'relu'),\n",
    "    Dropout(0.2), \n",
    "    Dense(2, activation = 'softmax')\n",
    "])\n",
    "\n",
    "model.summary()"
   ]
  },
  {
   "cell_type": "code",
   "execution_count": null,
   "metadata": {
    "id": "EDgjWd_OKzXY"
   },
   "outputs": [],
   "source": [
    "model.compile(loss = 'binary_crossentropy', optimizer = 'adam', \n",
    "              metrics = ['accuracy'])"
   ]
  },
  {
   "cell_type": "code",
   "execution_count": null,
   "metadata": {
    "id": "Ud8g5QM2K123"
   },
   "outputs": [],
   "source": [
    "#Changing the shape of y\n",
    "y_train = to_categorical(y_train)\n",
    "\n",
    "#Train Validation Split\n",
    "X_train, X_val, y_train, y_val = train_test_split(X_train, y_train, \n",
    "                                                    test_size = 0.2, \n",
    "                                                    random_state = 101)"
   ]
  },
  {
   "cell_type": "code",
   "execution_count": null,
   "metadata": {
    "id": "BR1TdLu7LpcZ"
   },
   "outputs": [],
   "source": [
    "early_stop = EarlyStopping(monitor='val_loss', mode='min', verbose=1, patience=25)"
   ]
  },
  {
   "cell_type": "code",
   "execution_count": null,
   "metadata": {
    "colab": {
     "base_uri": "https://localhost:8080/"
    },
    "id": "xwV4OyAhK4pp",
    "outputId": "0cbe922b-2483-4fab-d0c6-ede3de4beaac"
   },
   "outputs": [
    {
     "name": "stdout",
     "output_type": "stream",
     "text": [
      "Epoch 1/100\n",
      "290/290 [==============================] - 2s 4ms/step - loss: 0.3436 - accuracy: 0.8835 - val_loss: 0.2950 - val_accuracy: 0.8942\n",
      "Epoch 2/100\n",
      "290/290 [==============================] - 1s 3ms/step - loss: 0.3168 - accuracy: 0.8910 - val_loss: 0.2925 - val_accuracy: 0.8945\n",
      "Epoch 3/100\n",
      "290/290 [==============================] - 1s 3ms/step - loss: 0.3080 - accuracy: 0.8913 - val_loss: 0.2906 - val_accuracy: 0.8948\n",
      "Epoch 4/100\n",
      "290/290 [==============================] - 1s 3ms/step - loss: 0.3020 - accuracy: 0.8927 - val_loss: 0.2892 - val_accuracy: 0.8948\n",
      "Epoch 5/100\n",
      "290/290 [==============================] - 1s 4ms/step - loss: 0.2995 - accuracy: 0.8931 - val_loss: 0.2890 - val_accuracy: 0.8947\n",
      "Epoch 6/100\n",
      "290/290 [==============================] - 1s 3ms/step - loss: 0.2971 - accuracy: 0.8934 - val_loss: 0.2885 - val_accuracy: 0.8959\n",
      "Epoch 7/100\n",
      "290/290 [==============================] - 1s 3ms/step - loss: 0.2935 - accuracy: 0.8929 - val_loss: 0.2892 - val_accuracy: 0.8960\n",
      "Epoch 8/100\n",
      "290/290 [==============================] - 1s 3ms/step - loss: 0.2925 - accuracy: 0.8930 - val_loss: 0.2898 - val_accuracy: 0.8962\n",
      "Epoch 9/100\n",
      "290/290 [==============================] - 1s 3ms/step - loss: 0.2890 - accuracy: 0.8941 - val_loss: 0.2883 - val_accuracy: 0.8966\n",
      "Epoch 10/100\n",
      "290/290 [==============================] - 1s 3ms/step - loss: 0.2870 - accuracy: 0.8948 - val_loss: 0.2909 - val_accuracy: 0.8955\n",
      "Epoch 11/100\n",
      "290/290 [==============================] - 1s 3ms/step - loss: 0.2834 - accuracy: 0.8948 - val_loss: 0.2907 - val_accuracy: 0.8952\n",
      "Epoch 12/100\n",
      "290/290 [==============================] - 1s 3ms/step - loss: 0.2813 - accuracy: 0.8956 - val_loss: 0.2942 - val_accuracy: 0.8948\n",
      "Epoch 13/100\n",
      "290/290 [==============================] - 1s 3ms/step - loss: 0.2805 - accuracy: 0.8956 - val_loss: 0.2924 - val_accuracy: 0.8960\n",
      "Epoch 14/100\n",
      "290/290 [==============================] - 1s 3ms/step - loss: 0.2787 - accuracy: 0.8950 - val_loss: 0.2926 - val_accuracy: 0.8952\n",
      "Epoch 15/100\n",
      "290/290 [==============================] - 1s 3ms/step - loss: 0.2772 - accuracy: 0.8968 - val_loss: 0.2960 - val_accuracy: 0.8956\n",
      "Epoch 16/100\n",
      "290/290 [==============================] - 1s 3ms/step - loss: 0.2756 - accuracy: 0.8975 - val_loss: 0.2945 - val_accuracy: 0.8965\n",
      "Epoch 17/100\n",
      "290/290 [==============================] - 1s 3ms/step - loss: 0.2746 - accuracy: 0.8964 - val_loss: 0.2948 - val_accuracy: 0.8958\n",
      "Epoch 18/100\n",
      "290/290 [==============================] - 1s 3ms/step - loss: 0.2732 - accuracy: 0.8987 - val_loss: 0.2949 - val_accuracy: 0.8945\n",
      "Epoch 19/100\n",
      "290/290 [==============================] - 1s 3ms/step - loss: 0.2731 - accuracy: 0.8981 - val_loss: 0.2953 - val_accuracy: 0.8955\n",
      "Epoch 20/100\n",
      "290/290 [==============================] - 1s 3ms/step - loss: 0.2688 - accuracy: 0.8999 - val_loss: 0.3001 - val_accuracy: 0.8940\n",
      "Epoch 21/100\n",
      "290/290 [==============================] - 1s 3ms/step - loss: 0.2674 - accuracy: 0.9021 - val_loss: 0.3005 - val_accuracy: 0.8907\n",
      "Epoch 22/100\n",
      "290/290 [==============================] - 1s 3ms/step - loss: 0.2658 - accuracy: 0.9002 - val_loss: 0.3023 - val_accuracy: 0.8948\n",
      "Epoch 23/100\n",
      "290/290 [==============================] - 1s 3ms/step - loss: 0.2649 - accuracy: 0.9015 - val_loss: 0.3089 - val_accuracy: 0.8927\n",
      "Epoch 24/100\n",
      "290/290 [==============================] - 1s 3ms/step - loss: 0.2647 - accuracy: 0.9015 - val_loss: 0.3055 - val_accuracy: 0.8912\n",
      "Epoch 25/100\n",
      "290/290 [==============================] - 1s 4ms/step - loss: 0.2629 - accuracy: 0.9035 - val_loss: 0.3068 - val_accuracy: 0.8929\n",
      "Epoch 26/100\n",
      "290/290 [==============================] - 1s 3ms/step - loss: 0.2625 - accuracy: 0.9028 - val_loss: 0.3028 - val_accuracy: 0.8934\n",
      "Epoch 27/100\n",
      "290/290 [==============================] - 1s 3ms/step - loss: 0.2588 - accuracy: 0.9040 - val_loss: 0.3083 - val_accuracy: 0.8904\n",
      "Epoch 28/100\n",
      "290/290 [==============================] - 1s 3ms/step - loss: 0.2588 - accuracy: 0.9028 - val_loss: 0.3078 - val_accuracy: 0.8908\n",
      "Epoch 29/100\n",
      "290/290 [==============================] - 1s 3ms/step - loss: 0.2569 - accuracy: 0.9046 - val_loss: 0.3122 - val_accuracy: 0.8919\n",
      "Epoch 30/100\n",
      "290/290 [==============================] - 1s 3ms/step - loss: 0.2548 - accuracy: 0.9056 - val_loss: 0.3091 - val_accuracy: 0.8907\n",
      "Epoch 31/100\n",
      "290/290 [==============================] - 1s 3ms/step - loss: 0.2540 - accuracy: 0.9055 - val_loss: 0.3100 - val_accuracy: 0.8895\n",
      "Epoch 32/100\n",
      "290/290 [==============================] - 1s 3ms/step - loss: 0.2528 - accuracy: 0.9053 - val_loss: 0.3140 - val_accuracy: 0.8904\n",
      "Epoch 33/100\n",
      "290/290 [==============================] - 1s 3ms/step - loss: 0.2521 - accuracy: 0.9069 - val_loss: 0.3084 - val_accuracy: 0.8901\n",
      "Epoch 34/100\n",
      "290/290 [==============================] - 1s 3ms/step - loss: 0.2507 - accuracy: 0.9070 - val_loss: 0.3192 - val_accuracy: 0.8904\n",
      "Epoch 00034: early stopping\n"
     ]
    },
    {
     "data": {
      "text/plain": [
       "<tensorflow.python.keras.callbacks.History at 0x7f1dbaa7bdd0>"
      ]
     },
     "execution_count": 13,
     "metadata": {
      "tags": []
     },
     "output_type": "execute_result"
    }
   ],
   "source": [
    "model.fit(X_train, y_train, epochs = 100, batch_size = 100, \n",
    "          validation_data = (X_val, y_val), verbose=1, callbacks=[early_stop])"
   ]
  },
  {
   "cell_type": "code",
   "execution_count": null,
   "metadata": {
    "colab": {
     "base_uri": "https://localhost:8080/",
     "height": 283
    },
    "id": "9jMpGvNjLd0_",
    "outputId": "df2667aa-1c8e-4412-baf4-0ab852a37a4d"
   },
   "outputs": [
    {
     "data": {
      "text/plain": [
       "<matplotlib.axes._subplots.AxesSubplot at 0x7f1db61c2710>"
      ]
     },
     "execution_count": 14,
     "metadata": {
      "tags": []
     },
     "output_type": "execute_result"
    },
    {
     "data": {
      "image/png": "[encoded data removed]",
      "text/plain": [
       "<Figure size 432x288 with 1 Axes>"
      ]
     },
     "metadata": {
      "needs_background": "light",
      "tags": []
     },
     "output_type": "display_data"
    }
   ],
   "source": [
    "losses = pd.DataFrame(model.history.history)\n",
    "\n",
    "losses[['loss','val_loss']].plot()"
   ]
  },
  {
   "cell_type": "code",
   "execution_count": null,
   "metadata": {
    "colab": {
     "base_uri": "https://localhost:8080/"
    },
    "id": "g03IWxcwL9tp",
    "outputId": "ad0a6a28-fe08-4923-fe34-3e3dccf061cb"
   },
   "outputs": [
    {
     "name": "stderr",
     "output_type": "stream",
     "text": [
      "/usr/local/lib/python3.7/dist-packages/tensorflow/python/keras/engine/sequential.py:455: UserWarning: `model.predict_classes()` is deprecated and will be removed after 2021-01-01. Please use instead:* `np.argmax(model.predict(x), axis=-1)`,   if your model does multi-class classification   (e.g. if it uses a `softmax` last-layer activation).* `(model.predict(x) > 0.5).astype(\"int32\")`,   if your model does binary classification   (e.g. if it uses a `sigmoid` last-layer activation).\n",
      "  warnings.warn('`model.predict_classes()` is deprecated and '\n"
     ]
    },
    {
     "name": "stdout",
     "output_type": "stream",
     "text": [
      "              precision    recall  f1-score   support\n",
      "\n",
      "           0       0.90      0.98      0.94      7944\n",
      "           1       0.60      0.25      0.35      1099\n",
      "\n",
      "    accuracy                           0.89      9043\n",
      "   macro avg       0.75      0.61      0.65      9043\n",
      "weighted avg       0.87      0.89      0.87      9043\n",
      "\n"
     ]
    }
   ],
   "source": [
    "#prediction without addressing the class imbalance problem using SMOTE\n",
    "predictions = model.predict_classes(X_test)\n",
    "\n",
    "print(classification_report(y_test,predictions))"
   ]
  },
  {
   "cell_type": "markdown",
   "metadata": {
    "id": "eMalQIkQtHEk"
   },
   "source": [
    "****Running the neural network model after addressing the class imbalance problem using SMOTE****"
   ]
  },
  {
   "cell_type": "code",
   "execution_count": null,
   "metadata": {
    "id": "EnuwHEJ8OyrP"
   },
   "outputs": [],
   "source": [
    "#Changing the shape of y\n",
    "y_train1 = to_categorical(y_train1)\n",
    "\n",
    "#Train Validation Split\n",
    "X_train1, X_val1, y_train1, y_val1 = train_test_split(X_train1, y_train1, \n",
    "                                                    test_size = 0.2, \n",
    "                                                    random_state = 101)"
   ]
  },
  {
   "cell_type": "code",
   "execution_count": null,
   "metadata": {
    "colab": {
     "base_uri": "https://localhost:8080/"
    },
    "id": "L-kQMhHXtgWm",
    "outputId": "5fbd9947-4bb5-4eb3-cee2-4f2777cffb8e"
   },
   "outputs": [
    {
     "name": "stdout",
     "output_type": "stream",
     "text": [
      "Epoch 1/100\n",
      "508/508 [==============================] - 2s 3ms/step - loss: 0.4441 - accuracy: 0.7956 - val_loss: 0.3420 - val_accuracy: 0.8529\n",
      "Epoch 2/100\n",
      "508/508 [==============================] - 2s 3ms/step - loss: 0.3493 - accuracy: 0.8511 - val_loss: 0.2707 - val_accuracy: 0.8902\n",
      "Epoch 3/100\n",
      "508/508 [==============================] - 2s 3ms/step - loss: 0.2965 - accuracy: 0.8779 - val_loss: 0.2363 - val_accuracy: 0.9029\n",
      "Epoch 4/100\n",
      "508/508 [==============================] - 2s 3ms/step - loss: 0.2642 - accuracy: 0.8921 - val_loss: 0.2211 - val_accuracy: 0.9105\n",
      "Epoch 5/100\n",
      "508/508 [==============================] - 2s 3ms/step - loss: 0.2485 - accuracy: 0.8999 - val_loss: 0.2127 - val_accuracy: 0.9149\n",
      "Epoch 6/100\n",
      "508/508 [==============================] - 2s 3ms/step - loss: 0.2366 - accuracy: 0.9041 - val_loss: 0.2140 - val_accuracy: 0.9142\n",
      "Epoch 7/100\n",
      "508/508 [==============================] - 2s 3ms/step - loss: 0.2286 - accuracy: 0.9083 - val_loss: 0.2074 - val_accuracy: 0.9144\n",
      "Epoch 8/100\n",
      "508/508 [==============================] - 2s 3ms/step - loss: 0.2240 - accuracy: 0.9100 - val_loss: 0.2039 - val_accuracy: 0.9174\n",
      "Epoch 9/100\n",
      "508/508 [==============================] - 2s 3ms/step - loss: 0.2179 - accuracy: 0.9119 - val_loss: 0.2038 - val_accuracy: 0.9181\n",
      "Epoch 10/100\n",
      "508/508 [==============================] - 2s 3ms/step - loss: 0.2153 - accuracy: 0.9122 - val_loss: 0.2041 - val_accuracy: 0.9176\n",
      "Epoch 11/100\n",
      "508/508 [==============================] - 2s 3ms/step - loss: 0.2120 - accuracy: 0.9132 - val_loss: 0.2079 - val_accuracy: 0.9156\n",
      "Epoch 12/100\n",
      "508/508 [==============================] - 2s 3ms/step - loss: 0.2102 - accuracy: 0.9143 - val_loss: 0.2051 - val_accuracy: 0.9171\n",
      "Epoch 13/100\n",
      "508/508 [==============================] - 2s 3ms/step - loss: 0.2079 - accuracy: 0.9148 - val_loss: 0.2073 - val_accuracy: 0.9180\n",
      "Epoch 14/100\n",
      "508/508 [==============================] - 2s 3ms/step - loss: 0.2062 - accuracy: 0.9157 - val_loss: 0.2020 - val_accuracy: 0.9187\n",
      "Epoch 15/100\n",
      "508/508 [==============================] - 2s 3ms/step - loss: 0.2058 - accuracy: 0.9164 - val_loss: 0.2033 - val_accuracy: 0.9180\n",
      "Epoch 16/100\n",
      "508/508 [==============================] - 2s 3ms/step - loss: 0.2030 - accuracy: 0.9164 - val_loss: 0.2019 - val_accuracy: 0.9164\n",
      "Epoch 17/100\n",
      "508/508 [==============================] - 1s 3ms/step - loss: 0.2022 - accuracy: 0.9162 - val_loss: 0.2024 - val_accuracy: 0.9185\n",
      "Epoch 18/100\n",
      "508/508 [==============================] - 2s 3ms/step - loss: 0.2000 - accuracy: 0.9176 - val_loss: 0.2034 - val_accuracy: 0.9186\n",
      "Epoch 19/100\n",
      "508/508 [==============================] - 2s 3ms/step - loss: 0.2009 - accuracy: 0.9172 - val_loss: 0.2058 - val_accuracy: 0.9176\n",
      "Epoch 20/100\n",
      "508/508 [==============================] - 2s 3ms/step - loss: 0.1979 - accuracy: 0.9187 - val_loss: 0.2052 - val_accuracy: 0.9170\n",
      "Epoch 21/100\n",
      "508/508 [==============================] - 2s 3ms/step - loss: 0.1969 - accuracy: 0.9189 - val_loss: 0.2080 - val_accuracy: 0.9162\n",
      "Epoch 22/100\n",
      "508/508 [==============================] - 2s 3ms/step - loss: 0.1967 - accuracy: 0.9185 - val_loss: 0.2058 - val_accuracy: 0.9172\n",
      "Epoch 23/100\n",
      "508/508 [==============================] - 2s 3ms/step - loss: 0.1948 - accuracy: 0.9197 - val_loss: 0.2057 - val_accuracy: 0.9170\n",
      "Epoch 24/100\n",
      "508/508 [==============================] - 2s 3ms/step - loss: 0.1952 - accuracy: 0.9201 - val_loss: 0.2067 - val_accuracy: 0.9200\n",
      "Epoch 25/100\n",
      "508/508 [==============================] - 2s 3ms/step - loss: 0.1931 - accuracy: 0.9213 - val_loss: 0.2081 - val_accuracy: 0.9158\n",
      "Epoch 26/100\n",
      "508/508 [==============================] - 2s 3ms/step - loss: 0.1923 - accuracy: 0.9210 - val_loss: 0.2085 - val_accuracy: 0.9198\n",
      "Epoch 27/100\n",
      "508/508 [==============================] - 2s 3ms/step - loss: 0.1903 - accuracy: 0.9209 - val_loss: 0.2104 - val_accuracy: 0.9169\n",
      "Epoch 28/100\n",
      "508/508 [==============================] - 2s 3ms/step - loss: 0.1914 - accuracy: 0.9206 - val_loss: 0.2073 - val_accuracy: 0.9183\n",
      "Epoch 29/100\n",
      "508/508 [==============================] - 2s 3ms/step - loss: 0.1907 - accuracy: 0.9217 - val_loss: 0.2067 - val_accuracy: 0.9190\n",
      "Epoch 30/100\n",
      "508/508 [==============================] - 2s 3ms/step - loss: 0.1902 - accuracy: 0.9208 - val_loss: 0.2081 - val_accuracy: 0.9186\n",
      "Epoch 31/100\n",
      "508/508 [==============================] - 2s 3ms/step - loss: 0.1911 - accuracy: 0.9213 - val_loss: 0.2061 - val_accuracy: 0.9200\n",
      "Epoch 32/100\n",
      "508/508 [==============================] - 2s 3ms/step - loss: 0.1887 - accuracy: 0.9215 - val_loss: 0.2087 - val_accuracy: 0.9172\n",
      "Epoch 33/100\n",
      "508/508 [==============================] - 2s 3ms/step - loss: 0.1894 - accuracy: 0.9206 - val_loss: 0.2083 - val_accuracy: 0.9189\n",
      "Epoch 34/100\n",
      "508/508 [==============================] - 2s 3ms/step - loss: 0.1869 - accuracy: 0.9234 - val_loss: 0.2083 - val_accuracy: 0.9191\n",
      "Epoch 35/100\n",
      "508/508 [==============================] - 2s 3ms/step - loss: 0.1886 - accuracy: 0.9218 - val_loss: 0.2090 - val_accuracy: 0.9185\n",
      "Epoch 36/100\n",
      "508/508 [==============================] - 2s 3ms/step - loss: 0.1850 - accuracy: 0.9236 - val_loss: 0.2116 - val_accuracy: 0.9179\n",
      "Epoch 37/100\n",
      "508/508 [==============================] - 2s 3ms/step - loss: 0.1874 - accuracy: 0.9226 - val_loss: 0.2125 - val_accuracy: 0.9172\n",
      "Epoch 38/100\n",
      "508/508 [==============================] - 2s 3ms/step - loss: 0.1850 - accuracy: 0.9241 - val_loss: 0.2111 - val_accuracy: 0.9165\n",
      "Epoch 39/100\n",
      "508/508 [==============================] - 2s 3ms/step - loss: 0.1852 - accuracy: 0.9233 - val_loss: 0.2097 - val_accuracy: 0.9183\n",
      "Epoch 40/100\n",
      "508/508 [==============================] - 2s 3ms/step - loss: 0.1832 - accuracy: 0.9246 - val_loss: 0.2114 - val_accuracy: 0.9169\n",
      "Epoch 41/100\n",
      "508/508 [==============================] - 2s 3ms/step - loss: 0.1829 - accuracy: 0.9245 - val_loss: 0.2127 - val_accuracy: 0.9179\n",
      "Epoch 00041: early stopping\n"
     ]
    },
    {
     "data": {
      "text/plain": [
       "<tensorflow.python.keras.callbacks.History at 0x7f1db6c429d0>"
      ]
     },
     "execution_count": 17,
     "metadata": {
      "tags": []
     },
     "output_type": "execute_result"
    }
   ],
   "source": [
    "model.fit(X_train1, y_train1, epochs = 100, batch_size = 100, \n",
    "          validation_data = (X_val1, y_val1), verbose=1, callbacks=[early_stop])"
   ]
  },
  {
   "cell_type": "code",
   "execution_count": null,
   "metadata": {
    "colab": {
     "base_uri": "https://localhost:8080/",
     "height": 283
    },
    "id": "WthfiQqEuerS",
    "outputId": "ead27ed3-3f4a-49ca-a8d6-edc96bb5b06e"
   },
   "outputs": [
    {
     "data": {
      "text/plain": [
       "<matplotlib.axes._subplots.AxesSubplot at 0x7f1db8247c50>"
      ]
     },
     "execution_count": 18,
     "metadata": {
      "tags": []
     },
     "output_type": "execute_result"
    },
    {
     "data": {
      "image/png": "[encoded data removed]",
      "text/plain": [
       "<Figure size 432x288 with 1 Axes>"
      ]
     },
     "metadata": {
      "needs_background": "light",
      "tags": []
     },
     "output_type": "display_data"
    }
   ],
   "source": [
    "losses = pd.DataFrame(model.history.history)\n",
    "\n",
    "losses[['loss','val_loss']].plot()"
   ]
  },
  {
   "cell_type": "code",
   "execution_count": null,
   "metadata": {
    "colab": {
     "base_uri": "https://localhost:8080/"
    },
    "id": "Tl0Xx9eHug81",
    "outputId": "76913f7b-50b2-4c34-e9cf-2125d5b86ef5"
   },
   "outputs": [
    {
     "name": "stderr",
     "output_type": "stream",
     "text": [
      "/usr/local/lib/python3.7/dist-packages/tensorflow/python/keras/engine/sequential.py:455: UserWarning: `model.predict_classes()` is deprecated and will be removed after 2021-01-01. Please use instead:* `np.argmax(model.predict(x), axis=-1)`,   if your model does multi-class classification   (e.g. if it uses a `softmax` last-layer activation).* `(model.predict(x) > 0.5).astype(\"int32\")`,   if your model does binary classification   (e.g. if it uses a `sigmoid` last-layer activation).\n",
      "  warnings.warn('`model.predict_classes()` is deprecated and '\n"
     ]
    },
    {
     "name": "stdout",
     "output_type": "stream",
     "text": [
      "              precision    recall  f1-score   support\n",
      "\n",
      "           0       0.91      0.96      0.93      7944\n",
      "           1       0.48      0.30      0.37      1099\n",
      "\n",
      "    accuracy                           0.88      9043\n",
      "   macro avg       0.69      0.63      0.65      9043\n",
      "weighted avg       0.86      0.88      0.86      9043\n",
      "\n"
     ]
    }
   ],
   "source": [
    "#prediction after addressing the class imbalance problem using SMOTE\n",
    "predictions = model.predict_classes(X_test)\n",
    "\n",
    "print(classification_report(y_test,predictions))"
   ]
  },
  {
   "cell_type": "code",
   "execution_count": null,
   "metadata": {
    "id": "nsbA7mnSy7r4"
   },
   "outputs": [],
   "source": []
  }
 ],
 "metadata": {
  "colab": {
   "collapsed_sections": [],
   "name": "NN_Proj.ipynb",
   "provenance": []
  },
  "kernelspec": {
   "display_name": "Python 3",
   "language": "python",
   "name": "python3"
  },
  "language_info": {
   "codemirror_mode": {
    "name": "ipython",
    "version": 3
   },
   "file_extension": ".py",
   "mimetype": "text/x-python",
   "name": "python",
   "nbconvert_exporter": "python",
   "pygments_lexer": "ipython3",
   "version": "3.8.5"
  }
 },
 "nbformat": 4,
 "nbformat_minor": 1
}
